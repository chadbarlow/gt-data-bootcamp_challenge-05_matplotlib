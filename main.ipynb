{
 "cells": [
  {
   "cell_type": "markdown",
   "metadata": {},
   "source": [
    "# Pymaceuticals Inc.\n",
    "---\n",
    "\n",
    "### Analysis\n",
    "\n",
    "No insights can be drawn regarding relative effectiveness of drugs sampled in this study for the following reasons:\n",
    "\n",
    "* We have not used the control group (e.g. placebo regimen) to establish causality by isolating the effect of the independent variable (e.g. drug regimen) on the dependent variable (e.g. tumor volume in time).\n",
    "    \n",
    "* We have observed tumor volume for a given subset of drug regimens (e.g. Capomulin, Ramicane, Infubinol, Ceftamin). We have not observed the same outcomes for the rest of the regimens (e.g. Stelasyn, Zoniferol, Ketapril, Propriva, Naftisol). \n",
    "    \n",
    "* We have observed tumor volume at final timepoints. We have not observed delta tumor volume over time.\n",
    "    \n",
    "* Several potential demographic sources of sampling bias have not been examined:\n",
    "\n",
    "    * Specimen size. We know from our analysis that tumors grow larger in larger mice. We don't know how final tumor sizes in a given regimen cohort may be biased by the weight of members in the cohort.\n",
    "\n",
    "    * Sex / age. Similarly, we have not examined correlations between tumor size and specimen sex or age."
   ]
  },
  {
   "cell_type": "code",
   "execution_count": 32,
   "metadata": {
    "scrolled": true
   },
   "outputs": [
    {
     "data": {
      "text/html": [
       "<div>\n",
       "<style scoped>\n",
       "    .dataframe tbody tr th:only-of-type {\n",
       "        vertical-align: middle;\n",
       "    }\n",
       "\n",
       "    .dataframe tbody tr th {\n",
       "        vertical-align: top;\n",
       "    }\n",
       "\n",
       "    .dataframe thead th {\n",
       "        text-align: right;\n",
       "    }\n",
       "</style>\n",
       "<table border=\"1\" class=\"dataframe\">\n",
       "  <thead>\n",
       "    <tr style=\"text-align: right;\">\n",
       "      <th></th>\n",
       "      <th>Mouse ID</th>\n",
       "      <th>Drug Regimen</th>\n",
       "      <th>Sex</th>\n",
       "      <th>Age_months</th>\n",
       "      <th>Weight (g)</th>\n",
       "      <th>Timepoint</th>\n",
       "      <th>Tumor Volume (mm3)</th>\n",
       "      <th>Metastatic Sites</th>\n",
       "    </tr>\n",
       "  </thead>\n",
       "  <tbody>\n",
       "    <tr>\n",
       "      <th>0</th>\n",
       "      <td>k403</td>\n",
       "      <td>Ramicane</td>\n",
       "      <td>Male</td>\n",
       "      <td>21</td>\n",
       "      <td>16</td>\n",
       "      <td>0</td>\n",
       "      <td>45.000000</td>\n",
       "      <td>0</td>\n",
       "    </tr>\n",
       "    <tr>\n",
       "      <th>1</th>\n",
       "      <td>k403</td>\n",
       "      <td>Ramicane</td>\n",
       "      <td>Male</td>\n",
       "      <td>21</td>\n",
       "      <td>16</td>\n",
       "      <td>5</td>\n",
       "      <td>38.825898</td>\n",
       "      <td>0</td>\n",
       "    </tr>\n",
       "    <tr>\n",
       "      <th>2</th>\n",
       "      <td>k403</td>\n",
       "      <td>Ramicane</td>\n",
       "      <td>Male</td>\n",
       "      <td>21</td>\n",
       "      <td>16</td>\n",
       "      <td>10</td>\n",
       "      <td>35.014271</td>\n",
       "      <td>1</td>\n",
       "    </tr>\n",
       "    <tr>\n",
       "      <th>3</th>\n",
       "      <td>k403</td>\n",
       "      <td>Ramicane</td>\n",
       "      <td>Male</td>\n",
       "      <td>21</td>\n",
       "      <td>16</td>\n",
       "      <td>15</td>\n",
       "      <td>34.223992</td>\n",
       "      <td>1</td>\n",
       "    </tr>\n",
       "    <tr>\n",
       "      <th>4</th>\n",
       "      <td>k403</td>\n",
       "      <td>Ramicane</td>\n",
       "      <td>Male</td>\n",
       "      <td>21</td>\n",
       "      <td>16</td>\n",
       "      <td>20</td>\n",
       "      <td>32.997729</td>\n",
       "      <td>1</td>\n",
       "    </tr>\n",
       "  </tbody>\n",
       "</table>\n",
       "</div>"
      ],
      "text/plain": [
       "  Mouse ID Drug Regimen   Sex  Age_months  Weight (g)  Timepoint  \\\n",
       "0     k403     Ramicane  Male          21          16          0   \n",
       "1     k403     Ramicane  Male          21          16          5   \n",
       "2     k403     Ramicane  Male          21          16         10   \n",
       "3     k403     Ramicane  Male          21          16         15   \n",
       "4     k403     Ramicane  Male          21          16         20   \n",
       "\n",
       "   Tumor Volume (mm3)  Metastatic Sites  \n",
       "0           45.000000                 0  \n",
       "1           38.825898                 0  \n",
       "2           35.014271                 1  \n",
       "3           34.223992                 1  \n",
       "4           32.997729                 1  "
      ]
     },
     "execution_count": 32,
     "metadata": {},
     "output_type": "execute_result"
    }
   ],
   "source": [
    "# Dependencies and Setup\n",
    "import matplotlib.pyplot as plt\n",
    "import pandas as pd\n",
    "import scipy.stats as st\n",
    "import numpy as np\n",
    "\n",
    "# Study data files\n",
    "mouse_metadata_path = \"data/Mouse_metadata.csv\"\n",
    "study_results_path = \"data/Study_results.csv\"\n",
    "\n",
    "# Read the mouse data and the study results\n",
    "mouse_metadata = pd.read_csv(mouse_metadata_path)\n",
    "study_results = pd.read_csv(study_results_path)\n",
    "\n",
    "study_data_complete = pd.merge(\n",
    "    mouse_metadata, study_results, how=\"inner\", on=[\"Mouse ID\", \"Mouse ID\"]\n",
    ")\n",
    "# Display the data table for preview\n",
    "study_data_complete.head()"
   ]
  },
  {
   "cell_type": "code",
   "execution_count": 33,
   "metadata": {},
   "outputs": [
    {
     "data": {
      "text/plain": [
       "249"
      ]
     },
     "execution_count": 33,
     "metadata": {},
     "output_type": "execute_result"
    }
   ],
   "source": [
    "# Checking the number of mice.\n",
    "len(study_data_complete[\"Mouse ID\"].unique())"
   ]
  },
  {
   "cell_type": "code",
   "execution_count": 34,
   "metadata": {},
   "outputs": [
    {
     "data": {
      "text/html": [
       "<div>\n",
       "<style scoped>\n",
       "    .dataframe tbody tr th:only-of-type {\n",
       "        vertical-align: middle;\n",
       "    }\n",
       "\n",
       "    .dataframe tbody tr th {\n",
       "        vertical-align: top;\n",
       "    }\n",
       "\n",
       "    .dataframe thead th {\n",
       "        text-align: right;\n",
       "    }\n",
       "</style>\n",
       "<table border=\"1\" class=\"dataframe\">\n",
       "  <thead>\n",
       "    <tr style=\"text-align: right;\">\n",
       "      <th></th>\n",
       "      <th></th>\n",
       "      <th>Drug Regimen</th>\n",
       "      <th>Sex</th>\n",
       "      <th>Age_months</th>\n",
       "      <th>Weight (g)</th>\n",
       "      <th>Tumor Volume (mm3)</th>\n",
       "      <th>Metastatic Sites</th>\n",
       "    </tr>\n",
       "    <tr>\n",
       "      <th>Mouse ID</th>\n",
       "      <th>Timepoint</th>\n",
       "      <th></th>\n",
       "      <th></th>\n",
       "      <th></th>\n",
       "      <th></th>\n",
       "      <th></th>\n",
       "      <th></th>\n",
       "    </tr>\n",
       "  </thead>\n",
       "  <tbody>\n",
       "    <tr>\n",
       "      <th rowspan=\"5\" valign=\"top\">g989</th>\n",
       "      <th>0</th>\n",
       "      <td>2</td>\n",
       "      <td>2</td>\n",
       "      <td>2</td>\n",
       "      <td>2</td>\n",
       "      <td>2</td>\n",
       "      <td>2</td>\n",
       "    </tr>\n",
       "    <tr>\n",
       "      <th>5</th>\n",
       "      <td>2</td>\n",
       "      <td>2</td>\n",
       "      <td>2</td>\n",
       "      <td>2</td>\n",
       "      <td>2</td>\n",
       "      <td>2</td>\n",
       "    </tr>\n",
       "    <tr>\n",
       "      <th>10</th>\n",
       "      <td>2</td>\n",
       "      <td>2</td>\n",
       "      <td>2</td>\n",
       "      <td>2</td>\n",
       "      <td>2</td>\n",
       "      <td>2</td>\n",
       "    </tr>\n",
       "    <tr>\n",
       "      <th>15</th>\n",
       "      <td>2</td>\n",
       "      <td>2</td>\n",
       "      <td>2</td>\n",
       "      <td>2</td>\n",
       "      <td>2</td>\n",
       "      <td>2</td>\n",
       "    </tr>\n",
       "    <tr>\n",
       "      <th>20</th>\n",
       "      <td>2</td>\n",
       "      <td>2</td>\n",
       "      <td>2</td>\n",
       "      <td>2</td>\n",
       "      <td>2</td>\n",
       "      <td>2</td>\n",
       "    </tr>\n",
       "  </tbody>\n",
       "</table>\n",
       "</div>"
      ],
      "text/plain": [
       "                    Drug Regimen  Sex  Age_months  Weight (g)  \\\n",
       "Mouse ID Timepoint                                              \n",
       "g989     0                     2    2           2           2   \n",
       "         5                     2    2           2           2   \n",
       "         10                    2    2           2           2   \n",
       "         15                    2    2           2           2   \n",
       "         20                    2    2           2           2   \n",
       "\n",
       "                    Tumor Volume (mm3)  Metastatic Sites  \n",
       "Mouse ID Timepoint                                        \n",
       "g989     0                           2                 2  \n",
       "         5                           2                 2  \n",
       "         10                          2                 2  \n",
       "         15                          2                 2  \n",
       "         20                          2                 2  "
      ]
     },
     "execution_count": 34,
     "metadata": {},
     "output_type": "execute_result"
    }
   ],
   "source": [
    "# Getting the duplicate mice by ID number that shows up for Mouse ID and Timepoint.\n",
    "groupby_ID_Time = study_data_complete.groupby([\"Mouse ID\", \"Timepoint\"]).count()\n",
    "groupby_ID_Time.loc[groupby_ID_Time[\"Drug Regimen\"] > 1]"
   ]
  },
  {
   "cell_type": "code",
   "execution_count": 35,
   "metadata": {},
   "outputs": [],
   "source": [
    "# Optional: Get all the data for the duplicate mouse ID."
   ]
  },
  {
   "cell_type": "code",
   "execution_count": 36,
   "metadata": {},
   "outputs": [
    {
     "data": {
      "text/html": [
       "<div>\n",
       "<style scoped>\n",
       "    .dataframe tbody tr th:only-of-type {\n",
       "        vertical-align: middle;\n",
       "    }\n",
       "\n",
       "    .dataframe tbody tr th {\n",
       "        vertical-align: top;\n",
       "    }\n",
       "\n",
       "    .dataframe thead th {\n",
       "        text-align: right;\n",
       "    }\n",
       "</style>\n",
       "<table border=\"1\" class=\"dataframe\">\n",
       "  <thead>\n",
       "    <tr style=\"text-align: right;\">\n",
       "      <th></th>\n",
       "      <th>Mouse ID</th>\n",
       "      <th>Drug Regimen</th>\n",
       "      <th>Sex</th>\n",
       "      <th>Age_months</th>\n",
       "      <th>Weight (g)</th>\n",
       "      <th>Timepoint</th>\n",
       "      <th>Tumor Volume (mm3)</th>\n",
       "      <th>Metastatic Sites</th>\n",
       "    </tr>\n",
       "  </thead>\n",
       "  <tbody>\n",
       "    <tr>\n",
       "      <th>0</th>\n",
       "      <td>k403</td>\n",
       "      <td>Ramicane</td>\n",
       "      <td>Male</td>\n",
       "      <td>21</td>\n",
       "      <td>16</td>\n",
       "      <td>0</td>\n",
       "      <td>45.000000</td>\n",
       "      <td>0</td>\n",
       "    </tr>\n",
       "    <tr>\n",
       "      <th>1</th>\n",
       "      <td>k403</td>\n",
       "      <td>Ramicane</td>\n",
       "      <td>Male</td>\n",
       "      <td>21</td>\n",
       "      <td>16</td>\n",
       "      <td>5</td>\n",
       "      <td>38.825898</td>\n",
       "      <td>0</td>\n",
       "    </tr>\n",
       "    <tr>\n",
       "      <th>2</th>\n",
       "      <td>k403</td>\n",
       "      <td>Ramicane</td>\n",
       "      <td>Male</td>\n",
       "      <td>21</td>\n",
       "      <td>16</td>\n",
       "      <td>10</td>\n",
       "      <td>35.014271</td>\n",
       "      <td>1</td>\n",
       "    </tr>\n",
       "    <tr>\n",
       "      <th>3</th>\n",
       "      <td>k403</td>\n",
       "      <td>Ramicane</td>\n",
       "      <td>Male</td>\n",
       "      <td>21</td>\n",
       "      <td>16</td>\n",
       "      <td>15</td>\n",
       "      <td>34.223992</td>\n",
       "      <td>1</td>\n",
       "    </tr>\n",
       "    <tr>\n",
       "      <th>4</th>\n",
       "      <td>k403</td>\n",
       "      <td>Ramicane</td>\n",
       "      <td>Male</td>\n",
       "      <td>21</td>\n",
       "      <td>16</td>\n",
       "      <td>20</td>\n",
       "      <td>32.997729</td>\n",
       "      <td>1</td>\n",
       "    </tr>\n",
       "  </tbody>\n",
       "</table>\n",
       "</div>"
      ],
      "text/plain": [
       "  Mouse ID Drug Regimen   Sex  Age_months  Weight (g)  Timepoint  \\\n",
       "0     k403     Ramicane  Male          21          16          0   \n",
       "1     k403     Ramicane  Male          21          16          5   \n",
       "2     k403     Ramicane  Male          21          16         10   \n",
       "3     k403     Ramicane  Male          21          16         15   \n",
       "4     k403     Ramicane  Male          21          16         20   \n",
       "\n",
       "   Tumor Volume (mm3)  Metastatic Sites  \n",
       "0           45.000000                 0  \n",
       "1           38.825898                 0  \n",
       "2           35.014271                 1  \n",
       "3           34.223992                 1  \n",
       "4           32.997729                 1  "
      ]
     },
     "execution_count": 36,
     "metadata": {},
     "output_type": "execute_result"
    }
   ],
   "source": [
    "# Create a clean DataFrame by dropping the duplicate mouse by its ID.\n",
    "clean_df = study_data_complete.drop(\n",
    "    study_data_complete[study_data_complete[\"Mouse ID\"] == \"g989\"].index\n",
    ")\n",
    "clean_df.head()"
   ]
  },
  {
   "cell_type": "code",
   "execution_count": 37,
   "metadata": {},
   "outputs": [
    {
     "data": {
      "text/plain": [
       "248"
      ]
     },
     "execution_count": 37,
     "metadata": {},
     "output_type": "execute_result"
    }
   ],
   "source": [
    "# Checking the number of mice in the clean DataFrame.\n",
    "len(clean_df[\"Mouse ID\"].unique())"
   ]
  },
  {
   "cell_type": "markdown",
   "metadata": {},
   "source": [
    "## Summary Statistics"
   ]
  },
  {
   "cell_type": "code",
   "execution_count": 87,
   "metadata": {
    "scrolled": true
   },
   "outputs": [
    {
     "data": {
      "text/html": [
       "<div>\n",
       "<style scoped>\n",
       "    .dataframe tbody tr th:only-of-type {\n",
       "        vertical-align: middle;\n",
       "    }\n",
       "\n",
       "    .dataframe tbody tr th {\n",
       "        vertical-align: top;\n",
       "    }\n",
       "\n",
       "    .dataframe thead th {\n",
       "        text-align: right;\n",
       "    }\n",
       "</style>\n",
       "<table border=\"1\" class=\"dataframe\">\n",
       "  <thead>\n",
       "    <tr style=\"text-align: right;\">\n",
       "      <th></th>\n",
       "      <th>Mean Tumor Volume</th>\n",
       "      <th>Median Tumor Volume</th>\n",
       "      <th>Tumor Volume Variance</th>\n",
       "      <th>Tumor Volume Std. Dev.</th>\n",
       "      <th>Tumor Volume Std. Err.</th>\n",
       "    </tr>\n",
       "    <tr>\n",
       "      <th>Drug Regimen</th>\n",
       "      <th></th>\n",
       "      <th></th>\n",
       "      <th></th>\n",
       "      <th></th>\n",
       "      <th></th>\n",
       "    </tr>\n",
       "  </thead>\n",
       "  <tbody>\n",
       "    <tr>\n",
       "      <th>Capomulin</th>\n",
       "      <td>40.675741</td>\n",
       "      <td>41.557809</td>\n",
       "      <td>24.947764</td>\n",
       "      <td>4.994774</td>\n",
       "      <td>0.329346</td>\n",
       "    </tr>\n",
       "    <tr>\n",
       "      <th>Ceftamin</th>\n",
       "      <td>52.591172</td>\n",
       "      <td>51.776157</td>\n",
       "      <td>39.290177</td>\n",
       "      <td>6.268188</td>\n",
       "      <td>0.469821</td>\n",
       "    </tr>\n",
       "    <tr>\n",
       "      <th>Infubinol</th>\n",
       "      <td>52.884795</td>\n",
       "      <td>51.820584</td>\n",
       "      <td>43.128684</td>\n",
       "      <td>6.567243</td>\n",
       "      <td>0.492236</td>\n",
       "    </tr>\n",
       "    <tr>\n",
       "      <th>Ketapril</th>\n",
       "      <td>55.235638</td>\n",
       "      <td>53.698743</td>\n",
       "      <td>68.553577</td>\n",
       "      <td>8.279709</td>\n",
       "      <td>0.603860</td>\n",
       "    </tr>\n",
       "    <tr>\n",
       "      <th>Naftisol</th>\n",
       "      <td>54.331565</td>\n",
       "      <td>52.509285</td>\n",
       "      <td>66.173479</td>\n",
       "      <td>8.134708</td>\n",
       "      <td>0.596466</td>\n",
       "    </tr>\n",
       "    <tr>\n",
       "      <th>Placebo</th>\n",
       "      <td>54.033581</td>\n",
       "      <td>52.288934</td>\n",
       "      <td>61.168083</td>\n",
       "      <td>7.821003</td>\n",
       "      <td>0.581331</td>\n",
       "    </tr>\n",
       "    <tr>\n",
       "      <th>Propriva</th>\n",
       "      <td>52.320930</td>\n",
       "      <td>50.446266</td>\n",
       "      <td>43.852013</td>\n",
       "      <td>6.622085</td>\n",
       "      <td>0.544332</td>\n",
       "    </tr>\n",
       "    <tr>\n",
       "      <th>Ramicane</th>\n",
       "      <td>40.216745</td>\n",
       "      <td>40.673236</td>\n",
       "      <td>23.486704</td>\n",
       "      <td>4.846308</td>\n",
       "      <td>0.320955</td>\n",
       "    </tr>\n",
       "    <tr>\n",
       "      <th>Stelasyn</th>\n",
       "      <td>54.233149</td>\n",
       "      <td>52.431737</td>\n",
       "      <td>59.450562</td>\n",
       "      <td>7.710419</td>\n",
       "      <td>0.573111</td>\n",
       "    </tr>\n",
       "    <tr>\n",
       "      <th>Zoniferol</th>\n",
       "      <td>53.236507</td>\n",
       "      <td>51.818479</td>\n",
       "      <td>48.533355</td>\n",
       "      <td>6.966589</td>\n",
       "      <td>0.516398</td>\n",
       "    </tr>\n",
       "  </tbody>\n",
       "</table>\n",
       "</div>"
      ],
      "text/plain": [
       "              Mean Tumor Volume  Median Tumor Volume  Tumor Volume Variance  \\\n",
       "Drug Regimen                                                                  \n",
       "Capomulin             40.675741            41.557809              24.947764   \n",
       "Ceftamin              52.591172            51.776157              39.290177   \n",
       "Infubinol             52.884795            51.820584              43.128684   \n",
       "Ketapril              55.235638            53.698743              68.553577   \n",
       "Naftisol              54.331565            52.509285              66.173479   \n",
       "Placebo               54.033581            52.288934              61.168083   \n",
       "Propriva              52.320930            50.446266              43.852013   \n",
       "Ramicane              40.216745            40.673236              23.486704   \n",
       "Stelasyn              54.233149            52.431737              59.450562   \n",
       "Zoniferol             53.236507            51.818479              48.533355   \n",
       "\n",
       "              Tumor Volume Std. Dev.  Tumor Volume Std. Err.  \n",
       "Drug Regimen                                                  \n",
       "Capomulin                   4.994774                0.329346  \n",
       "Ceftamin                    6.268188                0.469821  \n",
       "Infubinol                   6.567243                0.492236  \n",
       "Ketapril                    8.279709                0.603860  \n",
       "Naftisol                    8.134708                0.596466  \n",
       "Placebo                     7.821003                0.581331  \n",
       "Propriva                    6.622085                0.544332  \n",
       "Ramicane                    4.846308                0.320955  \n",
       "Stelasyn                    7.710419                0.573111  \n",
       "Zoniferol                   6.966589                0.516398  "
      ]
     },
     "execution_count": 87,
     "metadata": {},
     "output_type": "execute_result"
    }
   ],
   "source": [
    "# Generate a summary statistics table of mean, median, variance, standard deviation, and SEM of the tumor volume for each regimen\n",
    "\n",
    "gb_RV = clean_df.groupby([\"Drug Regimen\"])[\"Tumor Volume (mm3)\"]\n",
    "\n",
    "sumstats_gbRV = pd.DataFrame(\n",
    "    {\n",
    "        \"Mean Tumor Volume\": gb_RV.mean(),\n",
    "        \"Median Tumor Volume\": gb_RV.median(),\n",
    "        \"Tumor Volume Variance\": gb_RV.var(),\n",
    "        \"Tumor Volume Std. Dev.\": gb_RV.std(),\n",
    "        \"Tumor Volume Std. Err.\": gb_RV.sem(),\n",
    "    }\n",
    ")\n",
    "sumstats_gbRV"
   ]
  },
  {
   "cell_type": "code",
   "execution_count": 88,
   "metadata": {},
   "outputs": [
    {
     "data": {
      "text/html": [
       "<style type=\"text/css\">\n",
       "#T_eca92_ caption {\n",
       "  color: black;\n",
       "  font-size: 12px;\n",
       "  text-align: right;\n",
       "  font-weight: bold;\n",
       "}\n",
       "</style>\n",
       "<table id=\"T_eca92_\">\n",
       "  <caption>Tumor Volume (mm3)</caption>\n",
       "  <thead>\n",
       "    <tr>\n",
       "      <th class=\"blank level0\" >&nbsp;</th>\n",
       "      <th class=\"col_heading level0 col0\" >mean</th>\n",
       "      <th class=\"col_heading level0 col1\" >median</th>\n",
       "      <th class=\"col_heading level0 col2\" >var</th>\n",
       "      <th class=\"col_heading level0 col3\" >std</th>\n",
       "      <th class=\"col_heading level0 col4\" >sem</th>\n",
       "    </tr>\n",
       "    <tr>\n",
       "      <th class=\"index_name level0\" >Drug Regimen</th>\n",
       "      <th class=\"blank col0\" >&nbsp;</th>\n",
       "      <th class=\"blank col1\" >&nbsp;</th>\n",
       "      <th class=\"blank col2\" >&nbsp;</th>\n",
       "      <th class=\"blank col3\" >&nbsp;</th>\n",
       "      <th class=\"blank col4\" >&nbsp;</th>\n",
       "    </tr>\n",
       "  </thead>\n",
       "  <tbody>\n",
       "    <tr>\n",
       "      <th id=\"T_eca92_level0_row0\" class=\"row_heading level0 row0\" >Capomulin</th>\n",
       "      <td id=\"T_eca92_row0_col0\" class=\"data row0 col0\" >40.675741</td>\n",
       "      <td id=\"T_eca92_row0_col1\" class=\"data row0 col1\" >41.557809</td>\n",
       "      <td id=\"T_eca92_row0_col2\" class=\"data row0 col2\" >24.947764</td>\n",
       "      <td id=\"T_eca92_row0_col3\" class=\"data row0 col3\" >4.994774</td>\n",
       "      <td id=\"T_eca92_row0_col4\" class=\"data row0 col4\" >0.329346</td>\n",
       "    </tr>\n",
       "    <tr>\n",
       "      <th id=\"T_eca92_level0_row1\" class=\"row_heading level0 row1\" >Ceftamin</th>\n",
       "      <td id=\"T_eca92_row1_col0\" class=\"data row1 col0\" >52.591172</td>\n",
       "      <td id=\"T_eca92_row1_col1\" class=\"data row1 col1\" >51.776157</td>\n",
       "      <td id=\"T_eca92_row1_col2\" class=\"data row1 col2\" >39.290177</td>\n",
       "      <td id=\"T_eca92_row1_col3\" class=\"data row1 col3\" >6.268188</td>\n",
       "      <td id=\"T_eca92_row1_col4\" class=\"data row1 col4\" >0.469821</td>\n",
       "    </tr>\n",
       "    <tr>\n",
       "      <th id=\"T_eca92_level0_row2\" class=\"row_heading level0 row2\" >Infubinol</th>\n",
       "      <td id=\"T_eca92_row2_col0\" class=\"data row2 col0\" >52.884795</td>\n",
       "      <td id=\"T_eca92_row2_col1\" class=\"data row2 col1\" >51.820584</td>\n",
       "      <td id=\"T_eca92_row2_col2\" class=\"data row2 col2\" >43.128684</td>\n",
       "      <td id=\"T_eca92_row2_col3\" class=\"data row2 col3\" >6.567243</td>\n",
       "      <td id=\"T_eca92_row2_col4\" class=\"data row2 col4\" >0.492236</td>\n",
       "    </tr>\n",
       "    <tr>\n",
       "      <th id=\"T_eca92_level0_row3\" class=\"row_heading level0 row3\" >Ketapril</th>\n",
       "      <td id=\"T_eca92_row3_col0\" class=\"data row3 col0\" >55.235638</td>\n",
       "      <td id=\"T_eca92_row3_col1\" class=\"data row3 col1\" >53.698743</td>\n",
       "      <td id=\"T_eca92_row3_col2\" class=\"data row3 col2\" >68.553577</td>\n",
       "      <td id=\"T_eca92_row3_col3\" class=\"data row3 col3\" >8.279709</td>\n",
       "      <td id=\"T_eca92_row3_col4\" class=\"data row3 col4\" >0.603860</td>\n",
       "    </tr>\n",
       "    <tr>\n",
       "      <th id=\"T_eca92_level0_row4\" class=\"row_heading level0 row4\" >Naftisol</th>\n",
       "      <td id=\"T_eca92_row4_col0\" class=\"data row4 col0\" >54.331565</td>\n",
       "      <td id=\"T_eca92_row4_col1\" class=\"data row4 col1\" >52.509285</td>\n",
       "      <td id=\"T_eca92_row4_col2\" class=\"data row4 col2\" >66.173479</td>\n",
       "      <td id=\"T_eca92_row4_col3\" class=\"data row4 col3\" >8.134708</td>\n",
       "      <td id=\"T_eca92_row4_col4\" class=\"data row4 col4\" >0.596466</td>\n",
       "    </tr>\n",
       "    <tr>\n",
       "      <th id=\"T_eca92_level0_row5\" class=\"row_heading level0 row5\" >Placebo</th>\n",
       "      <td id=\"T_eca92_row5_col0\" class=\"data row5 col0\" >54.033581</td>\n",
       "      <td id=\"T_eca92_row5_col1\" class=\"data row5 col1\" >52.288934</td>\n",
       "      <td id=\"T_eca92_row5_col2\" class=\"data row5 col2\" >61.168083</td>\n",
       "      <td id=\"T_eca92_row5_col3\" class=\"data row5 col3\" >7.821003</td>\n",
       "      <td id=\"T_eca92_row5_col4\" class=\"data row5 col4\" >0.581331</td>\n",
       "    </tr>\n",
       "    <tr>\n",
       "      <th id=\"T_eca92_level0_row6\" class=\"row_heading level0 row6\" >Propriva</th>\n",
       "      <td id=\"T_eca92_row6_col0\" class=\"data row6 col0\" >52.320930</td>\n",
       "      <td id=\"T_eca92_row6_col1\" class=\"data row6 col1\" >50.446266</td>\n",
       "      <td id=\"T_eca92_row6_col2\" class=\"data row6 col2\" >43.852013</td>\n",
       "      <td id=\"T_eca92_row6_col3\" class=\"data row6 col3\" >6.622085</td>\n",
       "      <td id=\"T_eca92_row6_col4\" class=\"data row6 col4\" >0.544332</td>\n",
       "    </tr>\n",
       "    <tr>\n",
       "      <th id=\"T_eca92_level0_row7\" class=\"row_heading level0 row7\" >Ramicane</th>\n",
       "      <td id=\"T_eca92_row7_col0\" class=\"data row7 col0\" >40.216745</td>\n",
       "      <td id=\"T_eca92_row7_col1\" class=\"data row7 col1\" >40.673236</td>\n",
       "      <td id=\"T_eca92_row7_col2\" class=\"data row7 col2\" >23.486704</td>\n",
       "      <td id=\"T_eca92_row7_col3\" class=\"data row7 col3\" >4.846308</td>\n",
       "      <td id=\"T_eca92_row7_col4\" class=\"data row7 col4\" >0.320955</td>\n",
       "    </tr>\n",
       "    <tr>\n",
       "      <th id=\"T_eca92_level0_row8\" class=\"row_heading level0 row8\" >Stelasyn</th>\n",
       "      <td id=\"T_eca92_row8_col0\" class=\"data row8 col0\" >54.233149</td>\n",
       "      <td id=\"T_eca92_row8_col1\" class=\"data row8 col1\" >52.431737</td>\n",
       "      <td id=\"T_eca92_row8_col2\" class=\"data row8 col2\" >59.450562</td>\n",
       "      <td id=\"T_eca92_row8_col3\" class=\"data row8 col3\" >7.710419</td>\n",
       "      <td id=\"T_eca92_row8_col4\" class=\"data row8 col4\" >0.573111</td>\n",
       "    </tr>\n",
       "    <tr>\n",
       "      <th id=\"T_eca92_level0_row9\" class=\"row_heading level0 row9\" >Zoniferol</th>\n",
       "      <td id=\"T_eca92_row9_col0\" class=\"data row9 col0\" >53.236507</td>\n",
       "      <td id=\"T_eca92_row9_col1\" class=\"data row9 col1\" >51.818479</td>\n",
       "      <td id=\"T_eca92_row9_col2\" class=\"data row9 col2\" >48.533355</td>\n",
       "      <td id=\"T_eca92_row9_col3\" class=\"data row9 col3\" >6.966589</td>\n",
       "      <td id=\"T_eca92_row9_col4\" class=\"data row9 col4\" >0.516398</td>\n",
       "    </tr>\n",
       "  </tbody>\n",
       "</table>\n"
      ],
      "text/plain": [
       "<pandas.io.formats.style.Styler at 0x7fe55c39e250>"
      ]
     },
     "execution_count": 88,
     "metadata": {},
     "output_type": "execute_result"
    }
   ],
   "source": [
    "# Using the aggregation method, produce the same summary statistics in a single line.\n",
    "gb_RV.agg([\"mean\", \"median\", \"var\", \"std\", \"sem\"]).style.set_caption(\n",
    "    \"Tumor Volume (mm3)\"\n",
    ").set_table_styles(\n",
    "    [\n",
    "        {\n",
    "            \"selector\": \"caption\",\n",
    "            \"props\": [\n",
    "                (\"color\", \"black\"),\n",
    "                (\"font-size\", \"12px\"),\n",
    "                (\"text-align\", \"right\"),\n",
    "                (\"font-weight\", \"bold\"),\n",
    "            ],\n",
    "        }\n",
    "    ]\n",
    ")"
   ]
  },
  {
   "cell_type": "markdown",
   "metadata": {},
   "source": [
    "## Bar and Pie Charts"
   ]
  },
  {
   "cell_type": "code",
   "execution_count": 90,
   "metadata": {},
   "outputs": [
    {
     "data": {
      "image/png": "[encoded data removed]",
      "text/plain": [
       "<Figure size 640x480 with 1 Axes>"
      ]
     },
     "metadata": {},
     "output_type": "display_data"
    }
   ],
   "source": [
    "# Generate a bar plot showing the total number of timepoints for all mice tested for each drug regimen using Pandas.\n",
    "pandas_bar = (\n",
    "    clean_df.groupby(\"Drug Regimen\")\n",
    "    .count()[\"Mouse ID\"].sort_values(ascending=False)\n",
    "    .plot(kind=\"bar\", legend=False)\n",
    ")\n",
    "pandas_bar.set_ylabel(\"Number of Mice Tested\");"
   ]
  },
  {
   "cell_type": "code",
   "execution_count": 41,
   "metadata": {},
   "outputs": [
    {
     "data": {
      "image/png": "[encoded data removed]",
      "text/plain": [
       "<Figure size 640x480 with 1 Axes>"
      ]
     },
     "metadata": {},
     "output_type": "display_data"
    }
   ],
   "source": [
    "# Generate a bar plot showing the total number of timepoints for all mice tested for each drug regimen using pyplot.\n",
    "plt.bar(x_values, y_values, width=0.5, color=\"#2478B4\", alpha=1, align=\"center\")\n",
    "plt.xticks(rotation=90)\n",
    "plt.title(\"Total Number of Timepoints for All Mice \\nvs. Drug Regimen\")\n",
    "plt.xlabel(\"Drug Regimen\")\n",
    "plt.ylabel(\"Number of Mice Tested\")\n",
    "plt.xlim(-0.75, len(x_values) - 0.25)\n",
    "plt.ylim(0, max(y_values) + 25)\n",
    "plt.tight_layout()"
   ]
  },
  {
   "cell_type": "code",
   "execution_count": 42,
   "metadata": {},
   "outputs": [
    {
     "data": {
      "image/png": "[encoded data removed]",
      "text/plain": [
       "<Figure size 640x480 with 1 Axes>"
      ]
     },
     "metadata": {},
     "output_type": "display_data"
    }
   ],
   "source": [
    "# Generate a pie plot showing the distribution of female versus male mice using Pandas\n",
    "clean_df[\"Sex\"].value_counts().plot(kind=\"pie\", autopct=\"%1.1f%%\");"
   ]
  },
  {
   "cell_type": "code",
   "execution_count": 43,
   "metadata": {},
   "outputs": [
    {
     "data": {
      "image/png": "[encoded data removed]",
      "text/plain": [
       "<Figure size 640x480 with 1 Axes>"
      ]
     },
     "metadata": {},
     "output_type": "display_data"
    }
   ],
   "source": [
    "# Generate a pie plot showing the distribution of female versus male mice using pyplot\n",
    "plt.pie(\n",
    "    list(clean_df[\"Sex\"].value_counts()),\n",
    "    labels=[\"Male\", \"Female\"],\n",
    "    autopct=\"%1.1f%%\",\n",
    ")\n",
    "plt.ylabel(\"Sex\");"
   ]
  },
  {
   "cell_type": "markdown",
   "metadata": {},
   "source": [
    "## Quartiles, Outliers and Boxplots"
   ]
  },
  {
   "cell_type": "code",
   "execution_count": 44,
   "metadata": {},
   "outputs": [
    {
     "data": {
      "text/html": [
       "<div>\n",
       "<style scoped>\n",
       "    .dataframe tbody tr th:only-of-type {\n",
       "        vertical-align: middle;\n",
       "    }\n",
       "\n",
       "    .dataframe tbody tr th {\n",
       "        vertical-align: top;\n",
       "    }\n",
       "\n",
       "    .dataframe thead th {\n",
       "        text-align: right;\n",
       "    }\n",
       "</style>\n",
       "<table border=\"1\" class=\"dataframe\">\n",
       "  <thead>\n",
       "    <tr style=\"text-align: right;\">\n",
       "      <th></th>\n",
       "      <th>Drug Regimen</th>\n",
       "      <th>Tumor Volume (mm3)</th>\n",
       "    </tr>\n",
       "  </thead>\n",
       "  <tbody>\n",
       "    <tr>\n",
       "      <th>0</th>\n",
       "      <td>Infubinol</td>\n",
       "      <td>67.973419</td>\n",
       "    </tr>\n",
       "    <tr>\n",
       "      <th>1</th>\n",
       "      <td>Infubinol</td>\n",
       "      <td>65.525743</td>\n",
       "    </tr>\n",
       "    <tr>\n",
       "      <th>3</th>\n",
       "      <td>Ceftamin</td>\n",
       "      <td>62.999356</td>\n",
       "    </tr>\n",
       "    <tr>\n",
       "      <th>6</th>\n",
       "      <td>Ramicane</td>\n",
       "      <td>38.407618</td>\n",
       "    </tr>\n",
       "    <tr>\n",
       "      <th>7</th>\n",
       "      <td>Ramicane</td>\n",
       "      <td>43.047543</td>\n",
       "    </tr>\n",
       "    <tr>\n",
       "      <th>...</th>\n",
       "      <td>...</td>\n",
       "      <td>...</td>\n",
       "    </tr>\n",
       "    <tr>\n",
       "      <th>238</th>\n",
       "      <td>Ceftamin</td>\n",
       "      <td>68.594745</td>\n",
       "    </tr>\n",
       "    <tr>\n",
       "      <th>239</th>\n",
       "      <td>Capomulin</td>\n",
       "      <td>31.896238</td>\n",
       "    </tr>\n",
       "    <tr>\n",
       "      <th>240</th>\n",
       "      <td>Ceftamin</td>\n",
       "      <td>64.729837</td>\n",
       "    </tr>\n",
       "    <tr>\n",
       "      <th>244</th>\n",
       "      <td>Ramicane</td>\n",
       "      <td>30.638696</td>\n",
       "    </tr>\n",
       "    <tr>\n",
       "      <th>245</th>\n",
       "      <td>Infubinol</td>\n",
       "      <td>62.754451</td>\n",
       "    </tr>\n",
       "  </tbody>\n",
       "</table>\n",
       "<p>100 rows × 2 columns</p>\n",
       "</div>"
      ],
      "text/plain": [
       "    Drug Regimen  Tumor Volume (mm3)\n",
       "0      Infubinol           67.973419\n",
       "1      Infubinol           65.525743\n",
       "3       Ceftamin           62.999356\n",
       "6       Ramicane           38.407618\n",
       "7       Ramicane           43.047543\n",
       "..           ...                 ...\n",
       "238     Ceftamin           68.594745\n",
       "239    Capomulin           31.896238\n",
       "240     Ceftamin           64.729837\n",
       "244     Ramicane           30.638696\n",
       "245    Infubinol           62.754451\n",
       "\n",
       "[100 rows x 2 columns]"
      ]
     },
     "execution_count": 44,
     "metadata": {},
     "output_type": "execute_result"
    }
   ],
   "source": [
    "# Calculate the final tumor volume of each mouse across four of the treatment regimens:\n",
    "# Capomulin, Ramicane, Infubinol, and Ceftamin\n",
    "treatments = [\"Capomulin\", \"Ramicane\", \"Infubinol\", \"Ceftamin\"]\n",
    "\n",
    "# Start by getting the last (greatest) timepoint for each mouse\n",
    "gb_maxtime = clean_df.groupby([\"Mouse ID\"])[\"Timepoint\"].max()\n",
    "\n",
    "# Merge this group df with the original DataFrame to get the tumor volume at the last timepoint\n",
    "last_vol_all_regimens = pd.merge(\n",
    "    gb_maxtime,\n",
    "    clean_df,\n",
    "    how=\"left\",\n",
    "    left_on=[\"Mouse ID\", \"Timepoint\"],\n",
    "    right_on=[\"Mouse ID\", \"Timepoint\"],\n",
    ")\n",
    "\n",
    "last_vol_selected_regimens = last_vol_all_regimens[\n",
    "    last_vol_all_regimens[\"Drug Regimen\"].isin(treatments)\n",
    "][[\"Drug Regimen\", \"Tumor Volume (mm3)\"]]\n",
    "\n",
    "last_vol_selected_regimens"
   ]
  },
  {
   "cell_type": "code",
   "execution_count": 95,
   "metadata": {},
   "outputs": [
    {
     "data": {
      "text/html": [
       "<div>\n",
       "<style scoped>\n",
       "    .dataframe tbody tr th:only-of-type {\n",
       "        vertical-align: middle;\n",
       "    }\n",
       "\n",
       "    .dataframe tbody tr th {\n",
       "        vertical-align: top;\n",
       "    }\n",
       "\n",
       "    .dataframe thead tr th {\n",
       "        text-align: left;\n",
       "    }\n",
       "\n",
       "    .dataframe thead tr:last-of-type th {\n",
       "        text-align: right;\n",
       "    }\n",
       "</style>\n",
       "<table border=\"1\" class=\"dataframe\">\n",
       "  <thead>\n",
       "    <tr>\n",
       "      <th></th>\n",
       "      <th colspan=\"5\" halign=\"left\">Tumor Volume (mm3)</th>\n",
       "    </tr>\n",
       "    <tr>\n",
       "      <th></th>\n",
       "      <th>25%</th>\n",
       "      <th>75%</th>\n",
       "      <th>IQR</th>\n",
       "      <th>Lower Bound</th>\n",
       "      <th>Upper Bound</th>\n",
       "    </tr>\n",
       "    <tr>\n",
       "      <th>Drug Regimen</th>\n",
       "      <th></th>\n",
       "      <th></th>\n",
       "      <th></th>\n",
       "      <th></th>\n",
       "      <th></th>\n",
       "    </tr>\n",
       "  </thead>\n",
       "  <tbody>\n",
       "    <tr>\n",
       "      <th>Capomulin</th>\n",
       "      <td>32.377357</td>\n",
       "      <td>40.159220</td>\n",
       "      <td>7.781863</td>\n",
       "      <td>20.704562</td>\n",
       "      <td>44.050152</td>\n",
       "    </tr>\n",
       "    <tr>\n",
       "      <th>Ceftamin</th>\n",
       "      <td>48.722078</td>\n",
       "      <td>64.299830</td>\n",
       "      <td>15.577752</td>\n",
       "      <td>25.355450</td>\n",
       "      <td>72.088706</td>\n",
       "    </tr>\n",
       "    <tr>\n",
       "      <th>Infubinol</th>\n",
       "      <td>54.048608</td>\n",
       "      <td>65.525743</td>\n",
       "      <td>11.477135</td>\n",
       "      <td>36.832905</td>\n",
       "      <td>71.264310</td>\n",
       "    </tr>\n",
       "    <tr>\n",
       "      <th>Ramicane</th>\n",
       "      <td>31.560470</td>\n",
       "      <td>40.659006</td>\n",
       "      <td>9.098537</td>\n",
       "      <td>17.912664</td>\n",
       "      <td>45.208275</td>\n",
       "    </tr>\n",
       "  </tbody>\n",
       "</table>\n",
       "</div>"
      ],
      "text/plain": [
       "             Tumor Volume (mm3)                                              \n",
       "                            25%        75%        IQR Lower Bound Upper Bound\n",
       "Drug Regimen                                                                 \n",
       "Capomulin             32.377357  40.159220   7.781863   20.704562   44.050152\n",
       "Ceftamin              48.722078  64.299830  15.577752   25.355450   72.088706\n",
       "Infubinol             54.048608  65.525743  11.477135   36.832905   71.264310\n",
       "Ramicane              31.560470  40.659006   9.098537   17.912664   45.208275"
      ]
     },
     "execution_count": 95,
     "metadata": {},
     "output_type": "execute_result"
    }
   ],
   "source": [
    "# Put treatments into a list for for loop (and later for plot labels)\n",
    "\n",
    "# For loop pseudocode that I decided not to use...\n",
    "# drugs of interest - {*Capoumilin*: None, • Infurbuol*: None,\n",
    "# for drug in drugs of interest:\n",
    "# drug fitter_s - final vol df['Drug'] - drug\n",
    "# drug_final_vol_df - final_vol_df[drug_filter_s]\n",
    "# quartiles - drug_final_vol _df.quantile((0.25, 0.75))\n",
    "# lower q - quartiles[0.25]\n",
    "# upper q = quartiles[0.75]\n",
    "# qr upperq Lowerq\n",
    "# Lower bound - lower 1.5°1qr\n",
    "# upper _bound - upper_q .S*igr\n",
    "# outlier to filter. drug_ final_vol _dff°volume'| < lower_bound\n",
    "# outlier hi filter_s - drug final vol df|°volume'] > upper bound\n",
    "# outlier df drug_final_vol_dfloutlier_lo_filter_s | outlier_hi_filter_sl\n",
    "# drugs_of_interest[drug] - outlier df\n",
    "\n",
    "# Calculate the IQR and quantitatively determine if there are any potential outliers.\n",
    "describe_df = last_vol_selected_regimens.groupby(\"Drug Regimen\").describe()[\n",
    "    [(\"Tumor Volume (mm3)\", \"25%\"), (\"Tumor Volume (mm3)\", \"75%\")]]\n",
    "\n",
    "describe_df[(\"Tumor Volume (mm3)\", \"IQR\")] = (describe_df[(\"Tumor Volume (mm3)\", \"75%\")]- describe_df[(\"Tumor Volume (mm3)\", \"25%\")])\n",
    "describe_df[(\"Tumor Volume (mm3)\", \"Lower Bound\")] = describe_df[(\"Tumor Volume (mm3)\", \"25%\")] - (describe_df[(\"Tumor Volume (mm3)\", \"IQR\")] * 1.5)\n",
    "describe_df[(\"Tumor Volume (mm3)\", \"Upper Bound\")] = describe_df[(\"Tumor Volume (mm3)\", \"25%\")] + (describe_df[(\"Tumor Volume (mm3)\", \"IQR\")] * 1.5)\n",
    "describe_df"
   ]
  },
  {
   "cell_type": "code",
   "execution_count": 96,
   "metadata": {},
   "outputs": [
    {
     "name": "stdout",
     "output_type": "stream",
     "text": [
      "Capomulin's potential outliers: [47.68596303, 46.53920617]\n",
      "Ceftamin's potential outliers: []\n",
      "Infubinol's potential outliers: [72.2267309, 36.3213458]\n",
      "Ramicane's potential outliers: [45.22086888]\n"
     ]
    }
   ],
   "source": [
    "# Determine outliers using upper and lower bounds\n",
    "cap = last_vol_selected_regimens.loc[(\n",
    "    (last_vol_selected_regimens[\"Drug Regimen\"] == \"Capomulin\") & (last_vol_selected_regimens[\"Tumor Volume (mm3)\"] > 44.050152) |\n",
    "    (last_vol_selected_regimens[\"Drug Regimen\"] == \"Capomulin\") & (last_vol_selected_regimens[\"Tumor Volume (mm3)\"] < 20.704562)\n",
    "    )][\"Tumor Volume (mm3)\"].tolist()\n",
    "\n",
    "cef = last_vol_selected_regimens.loc[(\n",
    "    (last_vol_selected_regimens[\"Drug Regimen\"] == \"Ceftamin\") & (last_vol_selected_regimens[\"Tumor Volume (mm3)\"] > 72.088706) |\n",
    "    (last_vol_selected_regimens[\"Drug Regimen\"] == \"Ceftamin\") & (last_vol_selected_regimens[\"Tumor Volume (mm3)\"] < 25.355450)\n",
    "    )][\"Tumor Volume (mm3)\"].tolist()\n",
    "\n",
    "inf = last_vol_selected_regimens.loc[(\n",
    "    (last_vol_selected_regimens[\"Drug Regimen\"] == \"Infubinol\") & (last_vol_selected_regimens[\"Tumor Volume (mm3)\"] > 71.264310) |\n",
    "    (last_vol_selected_regimens[\"Drug Regimen\"] == \"Infubinol\") & (last_vol_selected_regimens[\"Tumor Volume (mm3)\"] < 36.832905)\n",
    "    )][\"Tumor Volume (mm3)\"].tolist()\n",
    "\n",
    "ram = last_vol_selected_regimens.loc[(\n",
    "    (last_vol_selected_regimens[\"Drug Regimen\"] == \"Ramicane\") & (last_vol_selected_regimens[\"Tumor Volume (mm3)\"] > 45.208275) |\n",
    "    (last_vol_selected_regimens[\"Drug Regimen\"] == \"Ramicane\") & (last_vol_selected_regimens[\"Tumor Volume (mm3)\"] < 17.912664)\n",
    "    )][\"Tumor Volume (mm3)\"].tolist()\n",
    "\n",
    "print(f\"Capomulin's potential outliers: {cap}\")\n",
    "print(f\"Ceftamin's potential outliers: {cef}\")\n",
    "print(f\"Infubinol's potential outliers: {inf}\")\n",
    "print(f\"Ramicane's potential outliers: {ram}\")"
   ]
  },
  {
   "cell_type": "code",
   "execution_count": 98,
   "metadata": {},
   "outputs": [
    {
     "data": {
      "image/png": "[encoded data removed]",
      "text/plain": [
       "<Figure size 640x480 with 1 Axes>"
      ]
     },
     "metadata": {},
     "output_type": "display_data"
    }
   ],
   "source": [
    "# Generate a box plot that shows the distrubution of the tumor volume for each treatment group.\n",
    "boxplot = last_vol_selected_regimens.boxplot(\n",
    "    column=\"Tumor Volume (mm3)\", by=\"Drug Regimen\", grid=False)\n",
    "boxplot.set_ylabel(\"Final Tumor Volume (mm3)\")\n",
    "boxplot.set_xlabel(\"Drug Regimen\")\n",
    "plt.title(\"\")\n",
    "plt.suptitle(\"\")\n",
    "boxplot;"
   ]
  },
  {
   "cell_type": "code",
   "execution_count": null,
   "metadata": {},
   "outputs": [],
   "source": [
    "# I considered using pyplot to create the same box plot, but decided against it...\n",
    "# boxplot = plt.figure()\n",
    "# axes1 = boxplot.add_subplot(1,1,1)\n",
    "# axes1.boxplot(x=[\n",
    "#     vol_per_regimen.loc[vol_per_regimen[\"Drug Regimen\"]==\"Capomulin\",\"Tumor Volume (mm3)\"],\n",
    "#     vol_per_regimen.loc[vol_per_regimen[\"Drug Regimen\"]==\"Ramicane\",\"Tumor Volume (mm3)\"],\n",
    "#     vol_per_regimen.loc[vol_per_regimen[\"Drug Regimen\"]==\"Infubinol\",\"Tumor Volume (mm3)\"],\n",
    "#     vol_per_regimen.loc[vol_per_regimen[\"Drug Regimen\"]==\"Ceftamin\",\"Tumor Volume (mm3)\"],\n",
    "# ],\n",
    "#               labels=[\"Capomulin\", \"Ramicane\", \"Infubinol\", \"Ceftamin\"],)"
   ]
  },
  {
   "cell_type": "markdown",
   "metadata": {},
   "source": [
    "## Line and Scatter Plots"
   ]
  },
  {
   "cell_type": "code",
   "execution_count": 99,
   "metadata": {},
   "outputs": [
    {
     "data": {
      "image/png": "[encoded data removed]",
      "text/plain": [
       "<Figure size 640x480 with 1 Axes>"
      ]
     },
     "metadata": {},
     "output_type": "display_data"
    }
   ],
   "source": [
    "# Generate a line plot of tumor volume vs. time point for a mouse treated with Capomulin\n",
    "plot_onemouse = clean_df.loc[clean_df[\"Mouse ID\"] == \"l509\"][\n",
    "    [\"Timepoint\", \"Tumor Volume (mm3)\"]].plot(\"Timepoint\", legend=False, title=\"Capomulin treatment of mouse 1509\")\n",
    "plot_onemouse.set_xlabel(\"Timepoint (days)\")\n",
    "plot_onemouse.set_ylabel(\"Tumor Volume (mm3)\")\n",
    "plot_onemouse;"
   ]
  },
  {
   "cell_type": "code",
   "execution_count": 103,
   "metadata": {},
   "outputs": [
    {
     "data": {
      "image/png": "[encoded data removed]",
      "text/plain": [
       "<Figure size 640x480 with 1 Axes>"
      ]
     },
     "metadata": {},
     "output_type": "display_data"
    }
   ],
   "source": [
    "# Generate a scatter plot of average tumor volume vs. mouse weight for the Capomulin regimen\n",
    "cap_df = (\n",
    "    clean_df.loc[clean_df[\"Drug Regimen\"] == \"Capomulin\"][\n",
    "        [\"Weight (g)\", \"Tumor Volume (mm3)\"]]\n",
    "    .groupby([\"Weight (g)\"])\n",
    "    .mean()\n",
    "    .reset_index()\n",
    "    .rename(columns={\"Tumor Volume (mm3)\": \"Average Tumor Volume (mm3)\"})\n",
    ")\n",
    "\n",
    "cap_df.plot.scatter(\n",
    "    \"Weight (g)\",\n",
    "    \"Average Tumor Volume (mm3)\",\n",
    "    title=\"Capomulin:\\nAverage Tumor Volume vs. Mouse Weight\",\n",
    ");"
   ]
  },
  {
   "cell_type": "markdown",
   "metadata": {},
   "source": [
    "## Correlation and Regression"
   ]
  },
  {
   "cell_type": "code",
   "execution_count": 108,
   "metadata": {},
   "outputs": [
    {
     "name": "stdout",
     "output_type": "stream",
     "text": [
      "The correlation between mouse weight and the avg tumor volume is 0.95.\n"
     ]
    },
    {
     "data": {
      "image/png": "[encoded data removed]",
      "text/plain": [
       "<Figure size 500x500 with 1 Axes>"
      ]
     },
     "metadata": {},
     "output_type": "display_data"
    }
   ],
   "source": [
    "# Calculate the correlation coefficient and linear regression model\n",
    "# for mouse weight and average tumor volume for the Capomulin regimen\n",
    "import seaborn as sns\n",
    "\n",
    "sns.lmplot(x=\"Weight (g)\", y=\"Average Tumor Volume (mm3)\", data=cap_df, fit_reg=True)\n",
    "print(\n",
    "    f\"The correlation between mouse weight and the avg tumor volume is {round(cap_df.corr().iloc[0,1],2)}.\"\n",
    ")"
   ]
  }
 ],
 "metadata": {
  "anaconda-cloud": {},
  "kernelspec": {
   "display_name": "PythonData",
   "language": "python",
   "name": "pythondata"
  },
  "language_info": {
   "codemirror_mode": {
    "name": "ipython",
    "version": 3
   },
   "file_extension": ".py",
   "mimetype": "text/x-python",
   "name": "python",
   "nbconvert_exporter": "python",
   "pygments_lexer": "ipython3",
   "version": "3.7.13"
  }
 },
 "nbformat": 4,
 "nbformat_minor": 4
}
